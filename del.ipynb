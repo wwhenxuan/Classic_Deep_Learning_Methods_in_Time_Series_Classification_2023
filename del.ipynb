{
 "cells": [
  {
   "cell_type": "code",
   "execution_count": 1,
   "outputs": [
    {
     "name": "stdout",
     "output_type": "stream",
     "text": [
      "Hello, world!\n"
     ]
    }
   ],
   "source": [
    "from run_forest_run import *"
   ],
   "metadata": {
    "collapsed": false,
    "ExecuteTime": {
     "end_time": "2023-12-01T08:29:30.941594700Z",
     "start_time": "2023-12-01T08:29:29.775048300Z"
    }
   },
   "id": "6762609414f70e5e"
  },
  {
   "cell_type": "code",
   "execution_count": 3,
   "outputs": [
    {
     "name": "stdout",
     "output_type": "stream",
     "text": [
      "第1轮网络训练\n",
      "正在构建训练集\n"
     ]
    },
    {
     "name": "stderr",
     "output_type": "stream",
     "text": [
      "100%|██████████| 60/60 [00:00<00:00, 7498.53it/s]\n"
     ]
    },
    {
     "name": "stdout",
     "output_type": "stream",
     "text": [
      "正在构建验证集\n"
     ]
    },
    {
     "name": "stderr",
     "output_type": "stream",
     "text": [
      "100%|██████████| 60/60 [00:00<00:00, 7493.84it/s]\n"
     ]
    },
    {
     "name": "stdout",
     "output_type": "stream",
     "text": [
      "正在获取网络:FCN\n"
     ]
    },
    {
     "name": "stderr",
     "output_type": "stream",
     "text": [
      "Epoch 1: 100%|██████████| 30/30 [00:00<00:00, 44.95it/s, Train count=30, Loss=1.35, Train acc=48.333%, Test acc=0.0%]\n",
      "Epoch 2: 100%|██████████| 30/30 [00:00<00:00, 72.32it/s, Train count=60, Loss=1.2, Train acc=51.666%, Test acc=0.0%]\n",
      "Epoch 3: 100%|██████████| 30/30 [00:00<00:00, 71.86it/s, Train count=90, Loss=1.14, Train acc=55.000%, Test acc=0.0%]\n",
      "Epoch 4: 100%|██████████| 30/30 [00:00<00:00, 73.35it/s, Train count=120, Loss=1.12, Train acc=53.333%, Test acc=0.0%]\n",
      "Epoch 5: 100%|██████████| 30/30 [00:00<00:00, 72.68it/s, Train count=150, Loss=1.07, Train acc=58.333%, Test acc=0.0%]\n",
      "Epoch 6: 100%|██████████| 30/30 [00:00<00:00, 73.12it/s, Train count=180, Loss=1.02, Train acc=63.333%, Test acc=0.0%]\n",
      "Epoch 7: 100%|██████████| 30/30 [00:00<00:00, 73.40it/s, Train count=210, Loss=0.992, Train acc=60.0%, Test acc=0.0%]\n",
      "Epoch 8: 100%|██████████| 30/30 [00:00<00:00, 72.89it/s, Train count=240, Loss=1.04, Train acc=68.333%, Test acc=0.0%]\n",
      "Epoch 9: 100%|██████████| 30/30 [00:00<00:00, 58.44it/s, Train count=270, Loss=0.926, Train acc=58.333%, Test acc=53.333%]\n",
      "Epoch 10: 100%|██████████| 30/30 [00:00<00:00, 58.59it/s, Train count=300, Loss=0.902, Train acc=73.333%, Test acc=61.666%]\n",
      "Epoch 11: 100%|██████████| 30/30 [00:00<00:00, 57.01it/s, Train count=330, Loss=0.873, Train acc=58.333%, Test acc=55.000%]\n",
      "Epoch 12: 100%|██████████| 30/30 [00:00<00:00, 57.74it/s, Train count=360, Loss=0.934, Train acc=78.333%, Test acc=58.333%]\n",
      "Epoch 13: 100%|██████████| 30/30 [00:00<00:00, 57.91it/s, Train count=390, Loss=0.871, Train acc=73.333%, Test acc=65.0%]\n",
      "Epoch 14: 100%|██████████| 30/30 [00:00<00:00, 56.94it/s, Train count=420, Loss=0.826, Train acc=76.666%, Test acc=58.333%]\n",
      "Epoch 15: 100%|██████████| 30/30 [00:00<00:00, 57.28it/s, Train count=450, Loss=0.898, Train acc=76.666%, Test acc=65.0%]\n",
      "Epoch 16: 100%|██████████| 30/30 [00:00<00:00, 58.08it/s, Train count=480, Loss=0.857, Train acc=68.333%, Test acc=63.333%]\n",
      "Epoch 17: 100%|██████████| 30/30 [00:00<00:00, 58.82it/s, Train count=510, Loss=0.816, Train acc=66.666%, Test acc=63.333%]\n",
      "Epoch 18: 100%|██████████| 30/30 [00:00<00:00, 58.15it/s, Train count=540, Loss=0.792, Train acc=80.0%, Test acc=66.666%]\n",
      "Epoch 19: 100%|██████████| 30/30 [00:00<00:00, 58.31it/s, Train count=570, Loss=0.766, Train acc=81.666%, Test acc=71.666%]\n",
      "Epoch 20: 100%|██████████| 30/30 [00:00<00:00, 57.95it/s, Train count=600, Loss=0.779, Train acc=75.0%, Test acc=68.333%]\n",
      "Epoch 21: 100%|██████████| 30/30 [00:00<00:00, 59.08it/s, Train count=630, Loss=0.747, Train acc=81.666%, Test acc=70.0%]\n",
      "Epoch 22: 100%|██████████| 30/30 [00:00<00:00, 59.06it/s, Train count=660, Loss=0.708, Train acc=76.666%, Test acc=61.666%]\n",
      "Epoch 23: 100%|██████████| 30/30 [00:00<00:00, 58.97it/s, Train count=690, Loss=0.78, Train acc=66.666%, Test acc=51.666%]\n",
      "Epoch 24: 100%|██████████| 30/30 [00:00<00:00, 58.99it/s, Train count=720, Loss=0.776, Train acc=76.666%, Test acc=60.0%]\n",
      "Epoch 25: 100%|██████████| 30/30 [00:00<00:00, 58.98it/s, Train count=750, Loss=0.712, Train acc=81.666%, Test acc=70.0%]\n",
      "Epoch 26: 100%|██████████| 30/30 [00:00<00:00, 59.09it/s, Train count=780, Loss=0.706, Train acc=73.333%, Test acc=68.333%]\n",
      "Epoch 27: 100%|██████████| 30/30 [00:00<00:00, 58.63it/s, Train count=810, Loss=0.719, Train acc=76.666%, Test acc=68.333%]\n",
      "Epoch 28: 100%|██████████| 30/30 [00:00<00:00, 59.09it/s, Train count=840, Loss=0.78, Train acc=78.333%, Test acc=63.333%]\n",
      "Epoch 29: 100%|██████████| 30/30 [00:00<00:00, 58.99it/s, Train count=870, Loss=0.69, Train acc=83.333%, Test acc=68.333%]\n",
      "Epoch 30: 100%|██████████| 30/30 [00:00<00:00, 58.74it/s, Train count=900, Loss=0.649, Train acc=85.0%, Test acc=70.0%]\n",
      "Epoch 31: 100%|██████████| 30/30 [00:00<00:00, 57.77it/s, Train count=930, Loss=0.645, Train acc=78.333%, Test acc=65.0%]\n",
      "Epoch 32: 100%|██████████| 30/30 [00:00<00:00, 57.62it/s, Train count=960, Loss=0.672, Train acc=75.0%, Test acc=61.666%]\n",
      "Epoch 33: 100%|██████████| 30/30 [00:00<00:00, 58.20it/s, Train count=990, Loss=0.693, Train acc=68.333%, Test acc=58.333%]\n",
      "Epoch 34: 100%|██████████| 30/30 [00:00<00:00, 58.08it/s, Train count=1020, Loss=0.645, Train acc=71.666%, Test acc=68.333%]\n",
      "Epoch 35: 100%|██████████| 30/30 [00:00<00:00, 58.37it/s, Train count=1050, Loss=0.692, Train acc=78.333%, Test acc=73.333%]\n",
      "Epoch 36: 100%|██████████| 30/30 [00:00<00:00, 59.15it/s, Train count=1080, Loss=0.645, Train acc=85.0%, Test acc=71.666%]\n",
      "Epoch 37: 100%|██████████| 30/30 [00:00<00:00, 58.99it/s, Train count=1110, Loss=0.673, Train acc=81.666%, Test acc=73.333%]\n",
      "Epoch 38: 100%|██████████| 30/30 [00:00<00:00, 57.58it/s, Train count=1140, Loss=0.617, Train acc=90.0%, Test acc=75.0%]\n",
      "Epoch 39: 100%|██████████| 30/30 [00:00<00:00, 58.53it/s, Train count=1170, Loss=0.582, Train acc=86.666%, Test acc=73.333%]\n",
      "Epoch 40: 100%|██████████| 30/30 [00:00<00:00, 58.01it/s, Train count=1200, Loss=0.597, Train acc=81.666%, Test acc=66.666%]\n",
      "Epoch 41: 100%|██████████| 30/30 [00:00<00:00, 57.47it/s, Train count=1230, Loss=0.611, Train acc=80.0%, Test acc=71.666%]\n",
      "Epoch 42: 100%|██████████| 30/30 [00:00<00:00, 58.12it/s, Train count=1260, Loss=0.573, Train acc=88.333%, Test acc=73.333%]\n",
      "Epoch 43: 100%|██████████| 30/30 [00:00<00:00, 57.81it/s, Train count=1290, Loss=0.547, Train acc=90.0%, Test acc=75.0%]\n",
      "Epoch 44: 100%|██████████| 30/30 [00:00<00:00, 58.50it/s, Train count=1320, Loss=0.505, Train acc=83.333%, Test acc=70.0%]\n",
      "Epoch 45: 100%|██████████| 30/30 [00:00<00:00, 57.31it/s, Train count=1350, Loss=0.545, Train acc=88.333%, Test acc=75.0%]\n",
      "Epoch 46: 100%|██████████| 30/30 [00:00<00:00, 57.58it/s, Train count=1380, Loss=0.574, Train acc=88.333%, Test acc=73.333%]\n",
      "Epoch 47: 100%|██████████| 30/30 [00:00<00:00, 57.35it/s, Train count=1410, Loss=0.52, Train acc=86.666%, Test acc=70.0%]\n",
      "Epoch 48: 100%|██████████| 30/30 [00:00<00:00, 57.69it/s, Train count=1440, Loss=0.565, Train acc=86.666%, Test acc=71.666%]\n",
      "Epoch 49: 100%|██████████| 30/30 [00:00<00:00, 57.22it/s, Train count=1470, Loss=0.528, Train acc=91.666%, Test acc=75.0%]\n",
      "Epoch 50: 100%|██████████| 30/30 [00:00<00:00, 58.25it/s, Train count=1500, Loss=0.495, Train acc=76.666%, Test acc=71.666%]\n"
     ]
    },
    {
     "name": "stdout",
     "output_type": "stream",
     "text": [
      "Highest Accuracy: 0.75\n",
      "第2轮网络训练\n",
      "正在构建训练集\n"
     ]
    },
    {
     "name": "stderr",
     "output_type": "stream",
     "text": [
      "100%|██████████| 60/60 [00:00<00:00, 7503.67it/s]\n"
     ]
    },
    {
     "name": "stdout",
     "output_type": "stream",
     "text": [
      "正在构建验证集\n"
     ]
    },
    {
     "name": "stderr",
     "output_type": "stream",
     "text": [
      "100%|██████████| 60/60 [00:00<00:00, 7496.75it/s]\n"
     ]
    },
    {
     "name": "stdout",
     "output_type": "stream",
     "text": [
      "正在获取网络:FCN\n"
     ]
    },
    {
     "name": "stderr",
     "output_type": "stream",
     "text": [
      "Epoch 1: 100%|██████████| 30/30 [00:00<00:00, 71.72it/s, Train count=30, Loss=1.32, Train acc=41.666%, Test acc=0.0%]\n",
      "Epoch 2: 100%|██████████| 30/30 [00:00<00:00, 71.26it/s, Train count=60, Loss=1.22, Train acc=63.333%, Test acc=0.0%]\n",
      "Epoch 3: 100%|██████████| 30/30 [00:00<00:00, 69.74it/s, Train count=90, Loss=1.11, Train acc=60.0%, Test acc=0.0%]\n",
      "Epoch 4: 100%|██████████| 30/30 [00:00<00:00, 70.63it/s, Train count=120, Loss=1.11, Train acc=60.0%, Test acc=0.0%]\n",
      "Epoch 5: 100%|██████████| 30/30 [00:00<00:00, 71.93it/s, Train count=150, Loss=1.05, Train acc=70.0%, Test acc=0.0%]\n",
      "Epoch 6: 100%|██████████| 30/30 [00:00<00:00, 71.33it/s, Train count=180, Loss=0.984, Train acc=70.0%, Test acc=0.0%]\n",
      "Epoch 7: 100%|██████████| 30/30 [00:00<00:00, 70.25it/s, Train count=210, Loss=0.95, Train acc=71.666%, Test acc=0.0%]\n",
      "Epoch 8: 100%|██████████| 30/30 [00:00<00:00, 70.34it/s, Train count=240, Loss=0.94, Train acc=60.0%, Test acc=0.0%]\n",
      "Epoch 9: 100%|██████████| 30/30 [00:00<00:00, 58.61it/s, Train count=270, Loss=0.94, Train acc=71.666%, Test acc=60.0%]\n",
      "Epoch 10: 100%|██████████| 30/30 [00:00<00:00, 57.97it/s, Train count=300, Loss=0.865, Train acc=61.666%, Test acc=53.333%]\n",
      "Epoch 11: 100%|██████████| 30/30 [00:00<00:00, 57.98it/s, Train count=330, Loss=0.878, Train acc=63.333%, Test acc=63.333%]\n",
      "Epoch 12: 100%|██████████| 30/30 [00:00<00:00, 58.33it/s, Train count=360, Loss=0.821, Train acc=83.333%, Test acc=71.666%]\n",
      "Epoch 13: 100%|██████████| 30/30 [00:00<00:00, 58.27it/s, Train count=390, Loss=0.831, Train acc=78.333%, Test acc=65.0%]\n",
      "Epoch 14: 100%|██████████| 30/30 [00:00<00:00, 57.11it/s, Train count=420, Loss=0.778, Train acc=66.666%, Test acc=61.666%]\n",
      "Epoch 15: 100%|██████████| 30/30 [00:00<00:00, 56.90it/s, Train count=450, Loss=0.829, Train acc=78.333%, Test acc=70.0%]\n",
      "Epoch 16: 100%|██████████| 30/30 [00:00<00:00, 57.49it/s, Train count=480, Loss=0.794, Train acc=70.0%, Test acc=53.333%]\n",
      "Epoch 17: 100%|██████████| 30/30 [00:00<00:00, 58.53it/s, Train count=510, Loss=0.755, Train acc=73.333%, Test acc=53.333%]\n",
      "Epoch 18: 100%|██████████| 30/30 [00:00<00:00, 57.26it/s, Train count=540, Loss=0.739, Train acc=80.0%, Test acc=71.666%]\n",
      "Epoch 19: 100%|██████████| 30/30 [00:00<00:00, 57.91it/s, Train count=570, Loss=0.757, Train acc=76.666%, Test acc=75.0%]\n",
      "Epoch 20: 100%|██████████| 30/30 [00:00<00:00, 57.96it/s, Train count=600, Loss=0.735, Train acc=78.333%, Test acc=71.666%]\n",
      "Epoch 21: 100%|██████████| 30/30 [00:00<00:00, 58.29it/s, Train count=630, Loss=0.855, Train acc=78.333%, Test acc=70.0%]\n",
      "Epoch 22: 100%|██████████| 30/30 [00:00<00:00, 58.26it/s, Train count=660, Loss=0.747, Train acc=86.666%, Test acc=71.666%]\n",
      "Epoch 23: 100%|██████████| 30/30 [00:00<00:00, 58.36it/s, Train count=690, Loss=0.709, Train acc=80.0%, Test acc=68.333%]\n",
      "Epoch 24: 100%|██████████| 30/30 [00:00<00:00, 58.95it/s, Train count=720, Loss=0.698, Train acc=76.666%, Test acc=71.666%]\n",
      "Epoch 25: 100%|██████████| 30/30 [00:00<00:00, 58.64it/s, Train count=750, Loss=0.729, Train acc=71.666%, Test acc=65.0%]\n",
      "Epoch 26: 100%|██████████| 30/30 [00:00<00:00, 58.23it/s, Train count=780, Loss=0.738, Train acc=75.0%, Test acc=71.666%]\n",
      "Epoch 27: 100%|██████████| 30/30 [00:00<00:00, 58.67it/s, Train count=810, Loss=0.662, Train acc=85.0%, Test acc=66.666%]\n",
      "Epoch 28: 100%|██████████| 30/30 [00:00<00:00, 58.18it/s, Train count=840, Loss=0.703, Train acc=70.0%, Test acc=55.000%]\n",
      "Epoch 29: 100%|██████████| 30/30 [00:00<00:00, 57.68it/s, Train count=870, Loss=0.67, Train acc=85.0%, Test acc=71.666%]\n",
      "Epoch 30: 100%|██████████| 30/30 [00:00<00:00, 58.82it/s, Train count=900, Loss=0.598, Train acc=83.333%, Test acc=66.666%]\n",
      "Epoch 31: 100%|██████████| 30/30 [00:00<00:00, 58.47it/s, Train count=930, Loss=0.586, Train acc=85.0%, Test acc=75.0%]\n",
      "Epoch 32: 100%|██████████| 30/30 [00:00<00:00, 58.40it/s, Train count=960, Loss=0.571, Train acc=83.333%, Test acc=73.333%]\n",
      "Epoch 33: 100%|██████████| 30/30 [00:00<00:00, 58.27it/s, Train count=990, Loss=0.589, Train acc=80.0%, Test acc=75.0%]\n",
      "Epoch 34: 100%|██████████| 30/30 [00:00<00:00, 58.65it/s, Train count=1020, Loss=0.59, Train acc=85.0%, Test acc=75.0%]\n",
      "Epoch 35: 100%|██████████| 30/30 [00:00<00:00, 58.86it/s, Train count=1050, Loss=0.562, Train acc=85.0%, Test acc=68.333%]\n",
      "Epoch 36: 100%|██████████| 30/30 [00:00<00:00, 57.41it/s, Train count=1080, Loss=0.563, Train acc=76.666%, Test acc=66.666%]\n",
      "Epoch 37: 100%|██████████| 30/30 [00:00<00:00, 58.04it/s, Train count=1110, Loss=0.536, Train acc=76.666%, Test acc=71.666%]\n",
      "Epoch 38: 100%|██████████| 30/30 [00:00<00:00, 58.02it/s, Train count=1140, Loss=0.589, Train acc=85.0%, Test acc=75.0%]\n",
      "Epoch 39: 100%|██████████| 30/30 [00:00<00:00, 58.52it/s, Train count=1170, Loss=0.58, Train acc=80.0%, Test acc=75.0%]\n",
      "Epoch 40: 100%|██████████| 30/30 [00:00<00:00, 56.07it/s, Train count=1200, Loss=0.535, Train acc=88.333%, Test acc=73.333%]\n",
      "Epoch 41: 100%|██████████| 30/30 [00:00<00:00, 57.69it/s, Train count=1230, Loss=0.557, Train acc=73.333%, Test acc=76.666%]\n",
      "Epoch 42: 100%|██████████| 30/30 [00:00<00:00, 57.91it/s, Train count=1260, Loss=0.561, Train acc=90.0%, Test acc=75.0%]\n",
      "Epoch 43: 100%|██████████| 30/30 [00:00<00:00, 58.07it/s, Train count=1290, Loss=0.523, Train acc=85.0%, Test acc=71.666%]\n",
      "Epoch 44: 100%|██████████| 30/30 [00:00<00:00, 58.02it/s, Train count=1320, Loss=0.567, Train acc=91.666%, Test acc=75.0%]\n",
      "Epoch 45: 100%|██████████| 30/30 [00:00<00:00, 57.52it/s, Train count=1350, Loss=0.473, Train acc=85.0%, Test acc=73.333%]\n",
      "Epoch 46: 100%|██████████| 30/30 [00:00<00:00, 57.47it/s, Train count=1380, Loss=0.545, Train acc=85.0%, Test acc=68.333%]\n",
      "Epoch 47: 100%|██████████| 30/30 [00:00<00:00, 58.06it/s, Train count=1410, Loss=0.496, Train acc=90.0%, Test acc=78.333%]\n",
      "Epoch 48: 100%|██████████| 30/30 [00:00<00:00, 59.21it/s, Train count=1440, Loss=0.489, Train acc=83.333%, Test acc=73.333%]\n",
      "Epoch 49: 100%|██████████| 30/30 [00:00<00:00, 58.30it/s, Train count=1470, Loss=0.53, Train acc=80.0%, Test acc=61.666%]\n",
      "Epoch 50: 100%|██████████| 30/30 [00:00<00:00, 56.80it/s, Train count=1500, Loss=0.493, Train acc=75.0%, Test acc=56.666%]\n"
     ]
    },
    {
     "name": "stdout",
     "output_type": "stream",
     "text": [
      "Highest Accuracy: 0.7833333333333333\n",
      "第3轮网络训练\n",
      "正在构建训练集\n"
     ]
    },
    {
     "name": "stderr",
     "output_type": "stream",
     "text": [
      "100%|██████████| 60/60 [00:00<00:00, 6668.39it/s]\n"
     ]
    },
    {
     "name": "stdout",
     "output_type": "stream",
     "text": [
      "正在构建验证集\n"
     ]
    },
    {
     "name": "stderr",
     "output_type": "stream",
     "text": [
      "100%|██████████| 60/60 [00:00<00:00, 6664.68it/s]\n"
     ]
    },
    {
     "name": "stdout",
     "output_type": "stream",
     "text": [
      "正在获取网络:FCN\n"
     ]
    },
    {
     "name": "stderr",
     "output_type": "stream",
     "text": [
      "Epoch 1: 100%|██████████| 30/30 [00:00<00:00, 70.33it/s, Train count=30, Loss=1.45, Train acc=55.000%, Test acc=0.0%]\n",
      "Epoch 2: 100%|██████████| 30/30 [00:00<00:00, 70.91it/s, Train count=60, Loss=1.18, Train acc=53.333%, Test acc=0.0%]\n",
      "Epoch 3: 100%|██████████| 30/30 [00:00<00:00, 70.96it/s, Train count=90, Loss=1.18, Train acc=53.333%, Test acc=0.0%]\n",
      "Epoch 4: 100%|██████████| 30/30 [00:00<00:00, 71.02it/s, Train count=120, Loss=1.14, Train acc=73.333%, Test acc=0.0%]\n",
      "Epoch 5: 100%|██████████| 30/30 [00:00<00:00, 70.53it/s, Train count=150, Loss=1.05, Train acc=58.333%, Test acc=0.0%]\n",
      "Epoch 6: 100%|██████████| 30/30 [00:00<00:00, 70.09it/s, Train count=180, Loss=1.01, Train acc=60.0%, Test acc=0.0%]\n",
      "Epoch 7: 100%|██████████| 30/30 [00:00<00:00, 71.33it/s, Train count=210, Loss=0.978, Train acc=61.666%, Test acc=0.0%]\n",
      "Epoch 8: 100%|██████████| 30/30 [00:00<00:00, 71.21it/s, Train count=240, Loss=0.953, Train acc=61.666%, Test acc=0.0%]\n",
      "Epoch 9: 100%|██████████| 30/30 [00:00<00:00, 56.46it/s, Train count=270, Loss=0.932, Train acc=58.333%, Test acc=56.666%]\n",
      "Epoch 10: 100%|██████████| 30/30 [00:00<00:00, 55.85it/s, Train count=300, Loss=0.977, Train acc=58.333%, Test acc=61.666%]\n",
      "Epoch 11: 100%|██████████| 30/30 [00:00<00:00, 56.96it/s, Train count=330, Loss=0.868, Train acc=66.666%, Test acc=55.000%]\n",
      "Epoch 12: 100%|██████████| 30/30 [00:00<00:00, 56.94it/s, Train count=360, Loss=0.878, Train acc=65.0%, Test acc=58.333%]\n",
      "Epoch 13: 100%|██████████| 30/30 [00:00<00:00, 57.03it/s, Train count=390, Loss=0.83, Train acc=76.666%, Test acc=68.333%]\n",
      "Epoch 14: 100%|██████████| 30/30 [00:00<00:00, 56.90it/s, Train count=420, Loss=0.842, Train acc=68.333%, Test acc=53.333%]\n",
      "Epoch 15: 100%|██████████| 30/30 [00:00<00:00, 57.25it/s, Train count=450, Loss=0.833, Train acc=81.666%, Test acc=71.666%]\n",
      "Epoch 16: 100%|██████████| 30/30 [00:00<00:00, 57.19it/s, Train count=480, Loss=0.806, Train acc=63.333%, Test acc=50.0%]\n",
      "Epoch 17: 100%|██████████| 30/30 [00:00<00:00, 57.26it/s, Train count=510, Loss=0.812, Train acc=81.666%, Test acc=70.0%]\n",
      "Epoch 18: 100%|██████████| 30/30 [00:00<00:00, 57.61it/s, Train count=540, Loss=0.821, Train acc=61.666%, Test acc=65.0%]\n",
      "Epoch 19: 100%|██████████| 30/30 [00:00<00:00, 57.52it/s, Train count=570, Loss=0.787, Train acc=83.333%, Test acc=71.666%]\n",
      "Epoch 20: 100%|██████████| 30/30 [00:00<00:00, 56.77it/s, Train count=600, Loss=0.716, Train acc=66.666%, Test acc=61.666%]\n",
      "Epoch 21: 100%|██████████| 30/30 [00:00<00:00, 57.01it/s, Train count=630, Loss=0.752, Train acc=76.666%, Test acc=70.0%]\n",
      "Epoch 22: 100%|██████████| 30/30 [00:00<00:00, 56.82it/s, Train count=660, Loss=0.711, Train acc=75.0%, Test acc=60.0%]\n",
      "Epoch 23: 100%|██████████| 30/30 [00:00<00:00, 57.99it/s, Train count=690, Loss=0.731, Train acc=78.333%, Test acc=73.333%]\n",
      "Epoch 24: 100%|██████████| 30/30 [00:00<00:00, 56.85it/s, Train count=720, Loss=0.699, Train acc=75.0%, Test acc=58.333%]\n",
      "Epoch 25: 100%|██████████| 30/30 [00:00<00:00, 56.98it/s, Train count=750, Loss=0.692, Train acc=76.666%, Test acc=73.333%]\n",
      "Epoch 26: 100%|██████████| 30/30 [00:00<00:00, 57.35it/s, Train count=780, Loss=0.74, Train acc=81.666%, Test acc=70.0%]\n",
      "Epoch 27: 100%|██████████| 30/30 [00:00<00:00, 56.34it/s, Train count=810, Loss=0.681, Train acc=86.666%, Test acc=73.333%]\n",
      "Epoch 28: 100%|██████████| 30/30 [00:00<00:00, 56.38it/s, Train count=840, Loss=0.67, Train acc=76.666%, Test acc=70.0%]\n",
      "Epoch 29: 100%|██████████| 30/30 [00:00<00:00, 56.43it/s, Train count=870, Loss=0.712, Train acc=73.333%, Test acc=70.0%]\n",
      "Epoch 30: 100%|██████████| 30/30 [00:00<00:00, 55.43it/s, Train count=900, Loss=0.643, Train acc=83.333%, Test acc=68.333%]\n",
      "Epoch 31: 100%|██████████| 30/30 [00:00<00:00, 56.62it/s, Train count=930, Loss=0.717, Train acc=81.666%, Test acc=71.666%]\n",
      "Epoch 32: 100%|██████████| 30/30 [00:00<00:00, 56.96it/s, Train count=960, Loss=0.64, Train acc=86.666%, Test acc=73.333%]\n",
      "Epoch 33: 100%|██████████| 30/30 [00:00<00:00, 55.92it/s, Train count=990, Loss=0.603, Train acc=80.0%, Test acc=70.0%]\n",
      "Epoch 34: 100%|██████████| 30/30 [00:00<00:00, 56.49it/s, Train count=1020, Loss=0.638, Train acc=81.666%, Test acc=63.333%]\n",
      "Epoch 35: 100%|██████████| 30/30 [00:00<00:00, 55.17it/s, Train count=1050, Loss=0.595, Train acc=81.666%, Test acc=73.333%]\n",
      "Epoch 36: 100%|██████████| 30/30 [00:00<00:00, 56.02it/s, Train count=1080, Loss=0.637, Train acc=81.666%, Test acc=73.333%]\n",
      "Epoch 37: 100%|██████████| 30/30 [00:00<00:00, 56.21it/s, Train count=1110, Loss=0.653, Train acc=85.0%, Test acc=68.333%]\n",
      "Epoch 38: 100%|██████████| 30/30 [00:00<00:00, 55.73it/s, Train count=1140, Loss=0.543, Train acc=86.666%, Test acc=71.666%]\n",
      "Epoch 39: 100%|██████████| 30/30 [00:00<00:00, 56.42it/s, Train count=1170, Loss=0.567, Train acc=80.0%, Test acc=73.333%]\n",
      "Epoch 40: 100%|██████████| 30/30 [00:00<00:00, 56.04it/s, Train count=1200, Loss=0.585, Train acc=86.666%, Test acc=73.333%]\n",
      "Epoch 41: 100%|██████████| 30/30 [00:00<00:00, 57.28it/s, Train count=1230, Loss=0.542, Train acc=71.666%, Test acc=68.333%]\n",
      "Epoch 42: 100%|██████████| 30/30 [00:00<00:00, 56.37it/s, Train count=1260, Loss=0.741, Train acc=75.0%, Test acc=68.333%]\n",
      "Epoch 43: 100%|██████████| 30/30 [00:00<00:00, 56.78it/s, Train count=1290, Loss=0.582, Train acc=78.333%, Test acc=71.666%]\n",
      "Epoch 44: 100%|██████████| 30/30 [00:00<00:00, 57.65it/s, Train count=1320, Loss=0.591, Train acc=88.333%, Test acc=76.666%]\n",
      "Epoch 45: 100%|██████████| 30/30 [00:00<00:00, 57.72it/s, Train count=1350, Loss=0.591, Train acc=86.666%, Test acc=66.666%]\n",
      "Epoch 46: 100%|██████████| 30/30 [00:00<00:00, 57.87it/s, Train count=1380, Loss=0.563, Train acc=85.0%, Test acc=70.0%]\n",
      "Epoch 47: 100%|██████████| 30/30 [00:00<00:00, 57.51it/s, Train count=1410, Loss=0.636, Train acc=86.666%, Test acc=73.333%]\n",
      "Epoch 48: 100%|██████████| 30/30 [00:00<00:00, 57.50it/s, Train count=1440, Loss=0.548, Train acc=88.333%, Test acc=73.333%]\n",
      "Epoch 49: 100%|██████████| 30/30 [00:00<00:00, 57.25it/s, Train count=1470, Loss=0.522, Train acc=86.666%, Test acc=71.666%]\n",
      "Epoch 50: 100%|██████████| 30/30 [00:00<00:00, 56.28it/s, Train count=1500, Loss=0.49, Train acc=85.0%, Test acc=78.333%]\n"
     ]
    },
    {
     "name": "stdout",
     "output_type": "stream",
     "text": [
      "Highest Accuracy: 0.7833333333333333\n",
      "第4轮网络训练\n",
      "正在构建训练集\n"
     ]
    },
    {
     "name": "stderr",
     "output_type": "stream",
     "text": [
      "100%|██████████| 60/60 [00:00<00:00, 7492.95it/s]\n"
     ]
    },
    {
     "name": "stdout",
     "output_type": "stream",
     "text": [
      "正在构建验证集\n"
     ]
    },
    {
     "name": "stderr",
     "output_type": "stream",
     "text": [
      "100%|██████████| 60/60 [00:00<00:00, 3105.63it/s]\n"
     ]
    },
    {
     "name": "stdout",
     "output_type": "stream",
     "text": [
      "正在获取网络:FCN\n"
     ]
    },
    {
     "name": "stderr",
     "output_type": "stream",
     "text": [
      "Epoch 1: 100%|██████████| 30/30 [00:00<00:00, 70.60it/s, Train count=30, Loss=1.39, Train acc=48.333%, Test acc=0.0%]\n",
      "Epoch 2: 100%|██████████| 30/30 [00:00<00:00, 71.77it/s, Train count=60, Loss=1.21, Train acc=56.666%, Test acc=0.0%]\n",
      "Epoch 3: 100%|██████████| 30/30 [00:00<00:00, 70.56it/s, Train count=90, Loss=1.15, Train acc=55.000%, Test acc=0.0%]\n",
      "Epoch 4: 100%|██████████| 30/30 [00:00<00:00, 70.33it/s, Train count=120, Loss=1.09, Train acc=60.0%, Test acc=0.0%]\n",
      "Epoch 5: 100%|██████████| 30/30 [00:00<00:00, 69.77it/s, Train count=150, Loss=1.08, Train acc=63.333%, Test acc=0.0%]\n",
      "Epoch 6: 100%|██████████| 30/30 [00:00<00:00, 70.30it/s, Train count=180, Loss=1.03, Train acc=58.333%, Test acc=0.0%]\n",
      "Epoch 7: 100%|██████████| 30/30 [00:00<00:00, 70.58it/s, Train count=210, Loss=0.971, Train acc=66.666%, Test acc=0.0%]\n",
      "Epoch 8: 100%|██████████| 30/30 [00:00<00:00, 70.88it/s, Train count=240, Loss=0.952, Train acc=70.0%, Test acc=0.0%]\n",
      "Epoch 9: 100%|██████████| 30/30 [00:00<00:00, 56.57it/s, Train count=270, Loss=0.966, Train acc=60.0%, Test acc=61.666%]\n",
      "Epoch 10: 100%|██████████| 30/30 [00:00<00:00, 57.54it/s, Train count=300, Loss=0.974, Train acc=65.0%, Test acc=56.666%]\n",
      "Epoch 11: 100%|██████████| 30/30 [00:00<00:00, 57.02it/s, Train count=330, Loss=0.874, Train acc=65.0%, Test acc=60.0%]\n",
      "Epoch 12: 100%|██████████| 30/30 [00:00<00:00, 56.27it/s, Train count=360, Loss=0.861, Train acc=70.0%, Test acc=63.333%]\n",
      "Epoch 13: 100%|██████████| 30/30 [00:00<00:00, 56.62it/s, Train count=390, Loss=0.853, Train acc=66.666%, Test acc=50.0%]\n",
      "Epoch 14: 100%|██████████| 30/30 [00:00<00:00, 57.52it/s, Train count=420, Loss=0.823, Train acc=76.666%, Test acc=66.666%]\n",
      "Epoch 15: 100%|██████████| 30/30 [00:00<00:00, 56.39it/s, Train count=450, Loss=0.856, Train acc=71.666%, Test acc=63.333%]\n",
      "Epoch 16: 100%|██████████| 30/30 [00:00<00:00, 57.41it/s, Train count=480, Loss=0.853, Train acc=61.666%, Test acc=63.333%]\n",
      "Epoch 17: 100%|██████████| 30/30 [00:00<00:00, 56.71it/s, Train count=510, Loss=0.788, Train acc=81.666%, Test acc=68.333%]\n",
      "Epoch 18: 100%|██████████| 30/30 [00:00<00:00, 55.69it/s, Train count=540, Loss=0.762, Train acc=83.333%, Test acc=70.0%]\n",
      "Epoch 19: 100%|██████████| 30/30 [00:00<00:00, 55.31it/s, Train count=570, Loss=0.815, Train acc=85.0%, Test acc=70.0%]\n",
      "Epoch 20: 100%|██████████| 30/30 [00:00<00:00, 55.90it/s, Train count=600, Loss=0.783, Train acc=80.0%, Test acc=68.333%]\n",
      "Epoch 21: 100%|██████████| 30/30 [00:00<00:00, 56.80it/s, Train count=630, Loss=0.76, Train acc=81.666%, Test acc=70.0%]\n",
      "Epoch 22: 100%|██████████| 30/30 [00:00<00:00, 55.69it/s, Train count=660, Loss=0.756, Train acc=60.0%, Test acc=63.333%]\n",
      "Epoch 23: 100%|██████████| 30/30 [00:00<00:00, 56.90it/s, Train count=690, Loss=0.717, Train acc=80.0%, Test acc=68.333%]\n",
      "Epoch 24: 100%|██████████| 30/30 [00:00<00:00, 57.17it/s, Train count=720, Loss=0.675, Train acc=83.333%, Test acc=75.0%]\n",
      "Epoch 25: 100%|██████████| 30/30 [00:00<00:00, 56.49it/s, Train count=750, Loss=0.699, Train acc=78.333%, Test acc=73.333%]\n",
      "Epoch 26: 100%|██████████| 30/30 [00:00<00:00, 56.63it/s, Train count=780, Loss=0.708, Train acc=70.0%, Test acc=63.333%]\n",
      "Epoch 27: 100%|██████████| 30/30 [00:00<00:00, 57.38it/s, Train count=810, Loss=0.731, Train acc=75.0%, Test acc=70.0%]\n",
      "Epoch 28: 100%|██████████| 30/30 [00:00<00:00, 57.04it/s, Train count=840, Loss=0.707, Train acc=81.666%, Test acc=73.333%]\n",
      "Epoch 29: 100%|██████████| 30/30 [00:00<00:00, 56.65it/s, Train count=870, Loss=0.716, Train acc=70.0%, Test acc=65.0%]\n",
      "Epoch 30: 100%|██████████| 30/30 [00:00<00:00, 56.19it/s, Train count=900, Loss=0.672, Train acc=86.666%, Test acc=73.333%]\n",
      "Epoch 31: 100%|██████████| 30/30 [00:00<00:00, 56.98it/s, Train count=930, Loss=0.602, Train acc=86.666%, Test acc=71.666%]\n",
      "Epoch 32: 100%|██████████| 30/30 [00:00<00:00, 56.70it/s, Train count=960, Loss=0.607, Train acc=75.0%, Test acc=60.0%]\n",
      "Epoch 33: 100%|██████████| 30/30 [00:00<00:00, 56.99it/s, Train count=990, Loss=0.589, Train acc=83.333%, Test acc=70.0%]\n",
      "Epoch 34: 100%|██████████| 30/30 [00:00<00:00, 57.03it/s, Train count=1020, Loss=0.681, Train acc=78.333%, Test acc=75.0%]\n",
      "Epoch 35: 100%|██████████| 30/30 [00:00<00:00, 56.48it/s, Train count=1050, Loss=0.629, Train acc=75.0%, Test acc=70.0%]\n",
      "Epoch 36: 100%|██████████| 30/30 [00:00<00:00, 56.13it/s, Train count=1080, Loss=0.633, Train acc=85.0%, Test acc=75.0%]\n",
      "Epoch 37: 100%|██████████| 30/30 [00:00<00:00, 56.85it/s, Train count=1110, Loss=0.542, Train acc=76.666%, Test acc=65.0%]\n",
      "Epoch 38: 100%|██████████| 30/30 [00:00<00:00, 56.15it/s, Train count=1140, Loss=0.593, Train acc=81.666%, Test acc=66.666%]\n",
      "Epoch 39: 100%|██████████| 30/30 [00:00<00:00, 56.24it/s, Train count=1170, Loss=0.569, Train acc=85.0%, Test acc=71.666%]\n",
      "Epoch 40: 100%|██████████| 30/30 [00:00<00:00, 56.92it/s, Train count=1200, Loss=0.574, Train acc=88.333%, Test acc=71.666%]\n",
      "Epoch 41: 100%|██████████| 30/30 [00:00<00:00, 55.70it/s, Train count=1230, Loss=0.566, Train acc=86.666%, Test acc=68.333%]\n",
      "Epoch 42: 100%|██████████| 30/30 [00:00<00:00, 55.13it/s, Train count=1260, Loss=0.579, Train acc=81.666%, Test acc=75.0%]\n",
      "Epoch 43: 100%|██████████| 30/30 [00:00<00:00, 56.50it/s, Train count=1290, Loss=0.606, Train acc=70.0%, Test acc=68.333%]\n",
      "Epoch 44: 100%|██████████| 30/30 [00:00<00:00, 56.81it/s, Train count=1320, Loss=0.535, Train acc=81.666%, Test acc=65.0%]\n",
      "Epoch 45: 100%|██████████| 30/30 [00:00<00:00, 56.18it/s, Train count=1350, Loss=0.582, Train acc=78.333%, Test acc=71.666%]\n",
      "Epoch 46: 100%|██████████| 30/30 [00:00<00:00, 57.28it/s, Train count=1380, Loss=0.51, Train acc=88.333%, Test acc=70.0%]\n",
      "Epoch 47: 100%|██████████| 30/30 [00:00<00:00, 56.71it/s, Train count=1410, Loss=0.58, Train acc=83.333%, Test acc=70.0%]\n",
      "Epoch 48: 100%|██████████| 30/30 [00:00<00:00, 56.72it/s, Train count=1440, Loss=0.519, Train acc=88.333%, Test acc=75.0%]\n",
      "Epoch 49: 100%|██████████| 30/30 [00:00<00:00, 55.35it/s, Train count=1470, Loss=0.455, Train acc=78.333%, Test acc=63.333%]\n",
      "Epoch 50: 100%|██████████| 30/30 [00:00<00:00, 56.28it/s, Train count=1500, Loss=0.524, Train acc=83.333%, Test acc=68.333%]\n"
     ]
    },
    {
     "name": "stdout",
     "output_type": "stream",
     "text": [
      "Highest Accuracy: 0.75\n",
      "第5轮网络训练\n",
      "正在构建训练集\n"
     ]
    },
    {
     "name": "stderr",
     "output_type": "stream",
     "text": [
      "100%|██████████| 60/60 [00:00<00:00, 7499.20it/s]\n"
     ]
    },
    {
     "name": "stdout",
     "output_type": "stream",
     "text": [
      "正在构建验证集\n"
     ]
    },
    {
     "name": "stderr",
     "output_type": "stream",
     "text": [
      "100%|██████████| 60/60 [00:00<00:00, 7495.41it/s]\n"
     ]
    },
    {
     "name": "stdout",
     "output_type": "stream",
     "text": [
      "正在获取网络:FCN\n"
     ]
    },
    {
     "name": "stderr",
     "output_type": "stream",
     "text": [
      "Epoch 1: 100%|██████████| 30/30 [00:00<00:00, 70.75it/s, Train count=30, Loss=1.35, Train acc=45.0%, Test acc=0.0%]\n",
      "Epoch 2: 100%|██████████| 30/30 [00:00<00:00, 71.50it/s, Train count=60, Loss=1.24, Train acc=56.666%, Test acc=0.0%]\n",
      "Epoch 3: 100%|██████████| 30/30 [00:00<00:00, 69.67it/s, Train count=90, Loss=1.12, Train acc=56.666%, Test acc=0.0%]\n",
      "Epoch 4: 100%|██████████| 30/30 [00:00<00:00, 70.33it/s, Train count=120, Loss=1.12, Train acc=58.333%, Test acc=0.0%]\n",
      "Epoch 5: 100%|██████████| 30/30 [00:00<00:00, 70.26it/s, Train count=150, Loss=1.05, Train acc=73.333%, Test acc=0.0%]\n",
      "Epoch 6: 100%|██████████| 30/30 [00:00<00:00, 71.94it/s, Train count=180, Loss=1.02, Train acc=66.666%, Test acc=0.0%]\n",
      "Epoch 7: 100%|██████████| 30/30 [00:00<00:00, 70.40it/s, Train count=210, Loss=1.02, Train acc=56.666%, Test acc=0.0%]\n",
      "Epoch 8: 100%|██████████| 30/30 [00:00<00:00, 70.41it/s, Train count=240, Loss=0.993, Train acc=60.0%, Test acc=0.0%]\n",
      "Epoch 9: 100%|██████████| 30/30 [00:00<00:00, 56.75it/s, Train count=270, Loss=0.94, Train acc=75.0%, Test acc=65.0%]\n",
      "Epoch 10: 100%|██████████| 30/30 [00:00<00:00, 56.61it/s, Train count=300, Loss=0.879, Train acc=66.666%, Test acc=58.333%]\n",
      "Epoch 11: 100%|██████████| 30/30 [00:00<00:00, 56.07it/s, Train count=330, Loss=0.864, Train acc=65.0%, Test acc=61.666%]\n",
      "Epoch 12: 100%|██████████| 30/30 [00:00<00:00, 55.96it/s, Train count=360, Loss=0.904, Train acc=73.333%, Test acc=63.333%]\n",
      "Epoch 13: 100%|██████████| 30/30 [00:00<00:00, 55.59it/s, Train count=390, Loss=0.816, Train acc=78.333%, Test acc=68.333%]\n",
      "Epoch 14: 100%|██████████| 30/30 [00:00<00:00, 55.80it/s, Train count=420, Loss=0.819, Train acc=76.666%, Test acc=61.666%]\n",
      "Epoch 15: 100%|██████████| 30/30 [00:00<00:00, 55.15it/s, Train count=450, Loss=0.824, Train acc=80.0%, Test acc=70.0%]\n",
      "Epoch 16: 100%|██████████| 30/30 [00:00<00:00, 56.54it/s, Train count=480, Loss=0.781, Train acc=78.333%, Test acc=70.0%]\n",
      "Epoch 17: 100%|██████████| 30/30 [00:00<00:00, 57.32it/s, Train count=510, Loss=0.748, Train acc=75.0%, Test acc=73.333%]\n",
      "Epoch 18: 100%|██████████| 30/30 [00:00<00:00, 56.44it/s, Train count=540, Loss=0.748, Train acc=75.0%, Test acc=61.666%]\n",
      "Epoch 19: 100%|██████████| 30/30 [00:00<00:00, 58.05it/s, Train count=570, Loss=0.734, Train acc=81.666%, Test acc=73.333%]\n",
      "Epoch 20: 100%|██████████| 30/30 [00:00<00:00, 57.21it/s, Train count=600, Loss=0.79, Train acc=78.333%, Test acc=71.666%]\n",
      "Epoch 21: 100%|██████████| 30/30 [00:00<00:00, 57.75it/s, Train count=630, Loss=0.729, Train acc=78.333%, Test acc=71.666%]\n",
      "Epoch 22: 100%|██████████| 30/30 [00:00<00:00, 57.95it/s, Train count=660, Loss=0.714, Train acc=86.666%, Test acc=73.333%]\n",
      "Epoch 23: 100%|██████████| 30/30 [00:00<00:00, 58.48it/s, Train count=690, Loss=0.671, Train acc=86.666%, Test acc=71.666%]\n",
      "Epoch 24: 100%|██████████| 30/30 [00:00<00:00, 57.85it/s, Train count=720, Loss=0.702, Train acc=85.0%, Test acc=70.0%]\n",
      "Epoch 25: 100%|██████████| 30/30 [00:00<00:00, 58.36it/s, Train count=750, Loss=0.648, Train acc=85.0%, Test acc=73.333%]\n",
      "Epoch 26: 100%|██████████| 30/30 [00:00<00:00, 57.51it/s, Train count=780, Loss=0.68, Train acc=73.333%, Test acc=61.666%]\n",
      "Epoch 27: 100%|██████████| 30/30 [00:00<00:00, 58.47it/s, Train count=810, Loss=0.629, Train acc=81.666%, Test acc=71.666%]\n",
      "Epoch 28: 100%|██████████| 30/30 [00:00<00:00, 57.96it/s, Train count=840, Loss=0.659, Train acc=85.0%, Test acc=70.0%]\n",
      "Epoch 29: 100%|██████████| 30/30 [00:00<00:00, 58.83it/s, Train count=870, Loss=0.748, Train acc=71.666%, Test acc=66.666%]\n",
      "Epoch 30: 100%|██████████| 30/30 [00:00<00:00, 58.91it/s, Train count=900, Loss=0.72, Train acc=78.333%, Test acc=75.0%]\n",
      "Epoch 31: 100%|██████████| 30/30 [00:00<00:00, 59.15it/s, Train count=930, Loss=0.633, Train acc=80.0%, Test acc=65.0%]\n",
      "Epoch 32: 100%|██████████| 30/30 [00:00<00:00, 59.19it/s, Train count=960, Loss=0.656, Train acc=78.333%, Test acc=73.333%]\n",
      "Epoch 33: 100%|██████████| 30/30 [00:00<00:00, 58.94it/s, Train count=990, Loss=0.599, Train acc=86.666%, Test acc=71.666%]\n",
      "Epoch 34: 100%|██████████| 30/30 [00:00<00:00, 59.23it/s, Train count=1020, Loss=0.616, Train acc=71.666%, Test acc=53.333%]\n",
      "Epoch 35: 100%|██████████| 30/30 [00:00<00:00, 58.82it/s, Train count=1050, Loss=0.601, Train acc=75.0%, Test acc=70.0%]\n",
      "Epoch 36: 100%|██████████| 30/30 [00:00<00:00, 57.33it/s, Train count=1080, Loss=0.593, Train acc=86.666%, Test acc=73.333%]\n",
      "Epoch 37: 100%|██████████| 30/30 [00:00<00:00, 56.28it/s, Train count=1110, Loss=0.559, Train acc=86.666%, Test acc=70.0%]\n",
      "Epoch 38: 100%|██████████| 30/30 [00:00<00:00, 56.21it/s, Train count=1140, Loss=0.572, Train acc=80.0%, Test acc=78.333%]\n",
      "Epoch 39: 100%|██████████| 30/30 [00:00<00:00, 58.29it/s, Train count=1170, Loss=0.552, Train acc=81.666%, Test acc=66.666%]\n",
      "Epoch 40: 100%|██████████| 30/30 [00:00<00:00, 56.33it/s, Train count=1200, Loss=0.627, Train acc=91.666%, Test acc=73.333%]\n",
      "Epoch 41: 100%|██████████| 30/30 [00:00<00:00, 55.33it/s, Train count=1230, Loss=0.698, Train acc=81.666%, Test acc=73.333%]\n",
      "Epoch 42: 100%|██████████| 30/30 [00:00<00:00, 56.55it/s, Train count=1260, Loss=0.602, Train acc=85.0%, Test acc=76.666%]\n",
      "Epoch 43: 100%|██████████| 30/30 [00:00<00:00, 58.17it/s, Train count=1290, Loss=0.575, Train acc=80.0%, Test acc=75.0%]\n",
      "Epoch 44: 100%|██████████| 30/30 [00:00<00:00, 58.70it/s, Train count=1320, Loss=0.519, Train acc=80.0%, Test acc=66.666%]\n",
      "Epoch 45: 100%|██████████| 30/30 [00:00<00:00, 58.44it/s, Train count=1350, Loss=0.489, Train acc=88.333%, Test acc=71.666%]\n",
      "Epoch 46: 100%|██████████| 30/30 [00:00<00:00, 58.91it/s, Train count=1380, Loss=0.542, Train acc=75.0%, Test acc=61.666%]\n",
      "Epoch 47: 100%|██████████| 30/30 [00:00<00:00, 58.52it/s, Train count=1410, Loss=0.572, Train acc=91.666%, Test acc=73.333%]\n",
      "Epoch 48: 100%|██████████| 30/30 [00:00<00:00, 57.90it/s, Train count=1440, Loss=0.54, Train acc=90.0%, Test acc=78.333%]\n",
      "Epoch 49: 100%|██████████| 30/30 [00:00<00:00, 55.79it/s, Train count=1470, Loss=0.479, Train acc=86.666%, Test acc=73.333%]\n",
      "Epoch 50: 100%|██████████| 30/30 [00:00<00:00, 55.30it/s, Train count=1500, Loss=0.473, Train acc=71.666%, Test acc=65.0%]"
     ]
    },
    {
     "name": "stdout",
     "output_type": "stream",
     "text": [
      "Highest Accuracy: 0.7833333333333333\n"
     ]
    },
    {
     "name": "stderr",
     "output_type": "stream",
     "text": [
      "\n"
     ]
    }
   ],
   "source": [
    "\"\"\"\n",
    "使用说明:\n",
    "network填使用的网络名称: MLP, FCN, ResNet, LSTM-FCN, MCNN, MACNN, InceptionTime\n",
    "name填使用的数据集的名称\n",
    "count表示进行几次实验\n",
    "train/test_batch_size是训练和测试的批量大小\n",
    "如果测试集没有太大的话测试的batch_size就填1就可以\n",
    "test_epochs表示从第几轮开始验证\n",
    "step_size, gamma, lr其实不用调\n",
    "\n",
    "如果出问题了，就是UCRdataset.py文件有信息填错了，这个时候可以手动修改一下，或是换一个数据集\n",
    "大部分数据集填的信息都是没问题的应该，我也没有测试过\n",
    "\"\"\"\n",
    "\n",
    "Network = Net(network='FCN', name='Car', lr=0.001, count=5,\n",
    "              train_batch_size=2, test_batch_size=1, epochs=50, test_epochs=8,\n",
    "              step_size=100, gamma=0.5)"
   ],
   "metadata": {
    "collapsed": false,
    "ExecuteTime": {
     "end_time": "2023-12-01T08:32:04.528321800Z",
     "start_time": "2023-12-01T08:29:57.079812700Z"
    }
   },
   "id": "fc3fcadf1580e293"
  },
  {
   "cell_type": "code",
   "execution_count": 4,
   "outputs": [
    {
     "name": "stdout",
     "output_type": "stream",
     "text": [
      "[0.75       0.78333333 0.78333333 0.75       0.78333333]\n",
      "均值 0.7699999999999999 标准差 0.016329931618554516\n"
     ]
    }
   ],
   "source": [
    "Network.print_acc()"
   ],
   "metadata": {
    "collapsed": false,
    "ExecuteTime": {
     "end_time": "2023-12-01T08:32:04.567573500Z",
     "start_time": "2023-12-01T08:32:04.522321900Z"
    }
   },
   "id": "7a6d04c065da2b4"
  },
  {
   "cell_type": "code",
   "execution_count": null,
   "outputs": [],
   "source": [],
   "metadata": {
    "collapsed": false
   },
   "id": "aa2ad968115ca049"
  }
 ],
 "metadata": {
  "kernelspec": {
   "display_name": "Python 3",
   "language": "python",
   "name": "python3"
  },
  "language_info": {
   "codemirror_mode": {
    "name": "ipython",
    "version": 2
   },
   "file_extension": ".py",
   "mimetype": "text/x-python",
   "name": "python",
   "nbconvert_exporter": "python",
   "pygments_lexer": "ipython2",
   "version": "2.7.6"
  }
 },
 "nbformat": 4,
 "nbformat_minor": 5
}
